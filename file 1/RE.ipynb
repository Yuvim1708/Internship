{
 "cells": [
  {
   "cell_type": "code",
   "execution_count": 7,
   "id": "4a4fc5e1-ee8b-4c67-93b5-07491767ca3e",
   "metadata": {},
   "outputs": [
    {
     "name": "stdout",
     "output_type": "stream",
     "text": [
      "Python:Exercises::PHP:exercises:\n"
     ]
    }
   ],
   "source": [
    "import re\n",
    "text = 'Python Exercises, PHP exercises.'\n",
    "print(re.sub(\"[ ,.]\", \":\", text))"
   ]
  },
  {
   "cell_type": "code",
   "execution_count": 15,
   "id": "9bb22560-88be-4eab-9b34-86f4fa4882f1",
   "metadata": {},
   "outputs": [
    {
     "name": "stdout",
     "output_type": "stream",
     "text": [
      "         SUMMARY\n",
      "0    hello world\n",
      "1           test\n",
      "2  four five six\n"
     ]
    }
   ],
   "source": [
    "import pandas as pd\n",
    "import re\n",
    "data = {'SUMMARY': ['hello, world!', 'test', 'four, five:; six...']}\n",
    "df = pd.DataFrame(data)\n",
    "df['SUMMARY'] = df['SUMMARY'].apply(lambda x: re.sub(r'[^\\w\\s]', '', x))\n",
    "print(df)"
   ]
  },
  {
   "cell_type": "code",
   "execution_count": 19,
   "id": "46851737-7452-4adc-a1bd-496c3cc97172",
   "metadata": {},
   "outputs": [
    {
     "name": "stdout",
     "output_type": "stream",
     "text": [
      "['name', 'YUvi', 'Garg']\n"
     ]
    }
   ],
   "source": [
    "import re\n",
    "\n",
    "def find_words(text):\n",
    "    pattern = re.compile(r'\\b\\w{4,}\\b')\n",
    "    return pattern.findall(text)\n",
    "\n",
    "sample_text = \"My name is YUvi Garg.\"\n",
    "print(find_words(sample_text))\n"
   ]
  },
  {
   "cell_type": "code",
   "execution_count": 4,
   "id": "85838a37-b1a9-411f-b13c-9a68d519d9fc",
   "metadata": {},
   "outputs": [
    {
     "name": "stdout",
     "output_type": "stream",
     "text": [
      "['name', 'THE', 'Yuvi', 'Garg', 'from', 'doing']\n"
     ]
    }
   ],
   "source": [
    "import re\n",
    "\n",
    "def find_words(text):\n",
    "    pattern = re.compile(r'\\b\\w{3,5}\\b')\n",
    "    return pattern.findall(text)\n",
    "stext = \"My name is THE Yuvi Garg from patiala Currently doing Intrernship.\"\n",
    "print(find_words(stext))\n"
   ]
  },
  {
   "cell_type": "code",
   "execution_count": 16,
   "id": "047d9eb5-aa42-4b64-882e-d9b0dc8899de",
   "metadata": {},
   "outputs": [
    {
     "name": "stdout",
     "output_type": "stream",
     "text": [
      "['example .com', 'hr@fliprobo .com', 'github .com', 'Hello Data Science World', 'Data Scientist']\n"
     ]
    }
   ],
   "source": [
    "def remove_parentheses(strings):\n",
    "  pattern = re.compile(r\"\\(|\\)\")\n",
    "  modified_strings = []\n",
    "  for string in strings:\n",
    "   modified_string = re.sub(pattern, \"\", string)\n",
    "   modified_strings.append(modified_string)\n",
    "  return modified_strings\n",
    "\n",
    "sample_text = [\"example (.com)\", \"hr@fliprobo (.com)\", \"github (.com)\", \"Hello (Data Science World)\", \"Data (Scientist)\"]\n",
    "result = remove_parentheses(sample_text)\n",
    "print(result)"
   ]
  },
  {
   "cell_type": "code",
   "execution_count": 20,
   "id": "ca43fccb-f766-4542-9904-08e5a1cd1bf8",
   "metadata": {},
   "outputs": [
    {
     "name": "stdout",
     "output_type": "stream",
     "text": [
      "['example', 'hr@fliprobo', 'github', 'Hello', 'Data']\n"
     ]
    }
   ],
   "source": [
    "import re\n",
    "\n",
    "with open('sample.txt', 'w') as file:\n",
    "    file.write(\"example (.com)\\nhr@fliprobo (.com)\\ngithub (.com)\\nHello (Data Science World)\\nData (Scientist)\")\n",
    "\n",
    "def remove_parentheses_from_file(Yuvi):\n",
    "    pattern = re.compile(r'\\s*\\(.*?\\)')\n",
    "    with open(Yuvi, 'r') as file:\n",
    "        lines = file.readlines()\n",
    "    return [pattern.sub('', line).strip() for line in lines]\n",
    "\n",
    "print(remove_parentheses_from_file('sample.txt'))\n"
   ]
  },
  {
   "cell_type": "code",
   "execution_count": 22,
   "id": "36cfa4b4-da02-4bc7-95ef-22236253bebc",
   "metadata": {},
   "outputs": [
    {
     "name": "stdout",
     "output_type": "stream",
     "text": [
      "['Importance', 'Of', 'Regular', 'Expressions', 'In', 'Python']\n"
     ]
    }
   ],
   "source": [
    "import re\n",
    "\n",
    "def split_uppercase(text):\n",
    "    pattern = re.compile(r'[A-Z][a-z]*')\n",
    "    return pattern.findall(text)\n",
    "\n",
    "sample_text = \"ImportanceOfRegularExpressionsInPython\"\n",
    "print(split_uppercase(sample_text))\n"
   ]
  },
  {
   "cell_type": "code",
   "execution_count": 24,
   "id": "b5dfaeba-066b-4851-b6fa-2dfde6bd39bc",
   "metadata": {},
   "outputs": [
    {
     "name": "stdout",
     "output_type": "stream",
     "text": [
      "RegularExpression1 IsAn2 ImportantTopic3 InPython\n"
     ]
    }
   ],
   "source": [
    "import re\n",
    "\n",
    "def insert_spaces(text):\n",
    "    return re.sub(r'(\\d)([A-Za-z])', r'\\1 \\2', text)\n",
    "\n",
    "sample_text = \"RegularExpression1IsAn2ImportantTopic3InPython\"\n",
    "print(insert_spaces(sample_text))\n"
   ]
  },
  {
   "cell_type": "code",
   "execution_count": 26,
   "id": "8453dd33-ecf6-4f6c-b6f5-c9b8f62f58a2",
   "metadata": {},
   "outputs": [
    {
     "name": "stdout",
     "output_type": "stream",
     "text": [
      "Regular Expression 1 Is An 2 Important Topic 3 In Python\n"
     ]
    }
   ],
   "source": [
    "import re\n",
    "\n",
    "def insert_spaces_capitals(text):\n",
    "    return re.sub(r'(\\d+|[A-Z][a-z]*)(?=[A-Z0-9])', r'\\1 ', text)\n",
    "\n",
    "sample_text = \"RegularExpression1IsAn2ImportantTopic3InPython\"\n",
    "print(insert_spaces_capitals(sample_text))\n"
   ]
  },
  {
   "cell_type": "code",
   "execution_count": 28,
   "id": "f9a3adba-fd6c-46df-8938-48299cf13f70",
   "metadata": {},
   "outputs": [
    {
     "name": "stdout",
     "output_type": "stream",
     "text": [
      "         Country first_five_letters\n",
      "0    Switzerland             Switze\n",
      "1        Iceland             Icelan\n",
      "2        Denmark             Denmar\n",
      "3         Norway             Norway\n",
      "4         Canada             Canada\n",
      "..           ...                ...\n",
      "153       Rwanda             Rwanda\n",
      "154        Benin              Benin\n",
      "155        Syria              Syria\n",
      "156      Burundi             Burund\n",
      "157         Togo               Togo\n",
      "\n",
      "[158 rows x 2 columns]\n"
     ]
    }
   ],
   "source": [
    "import pandas as pd\n",
    "\n",
    "url = \"https://raw.githubusercontent.com/dsrscientist/DSData/master/happiness_score_dataset.csv\"\n",
    "df = pd.read_csv(url)\n",
    "df['first_five_letters'] = df['Country'].str[:6]\n",
    "print(df[['Country', 'first_five_letters']])\n"
   ]
  },
  {
   "cell_type": "code",
   "execution_count": 34,
   "id": "88ecece7-ff36-423e-8158-bc1a86605dce",
   "metadata": {},
   "outputs": [
    {
     "name": "stdout",
     "output_type": "stream",
     "text": [
      "String matches the pattern\n",
      "String does not match the pattern\n"
     ]
    }
   ],
   "source": [
    "import re\n",
    "\n",
    "def match_string(string):\n",
    "  pattern = r'^[a-zA-Z0-9_]+$'\n",
    "  if re.match(pattern, string):\n",
    "   print(\"String matches the pattern\")\n",
    "  else:\n",
    "   print(\"String does not match the pattern\")\n",
    "\n",
    "match_string(\"yuvi123\") \n",
    "match_string(\"Hello World\")"
   ]
  },
  {
   "cell_type": "code",
   "execution_count": 50,
   "id": "33a3b794-9314-4fc3-bc33-4a5be0618e98",
   "metadata": {},
   "outputs": [
    {
     "name": "stdout",
     "output_type": "stream",
     "text": [
      "The string starts with the specified number.\n"
     ]
    }
   ],
   "source": [
    "def check_starting_number(string, number):\n",
    "  if string.startswith(str(number)):\n",
    "   return True\n",
    "  else:\n",
    "   return False\n",
    "string = \"123yuvi\"\n",
    "number = 123\n",
    "\n",
    "if check_starting_number(string, number):\n",
    "  print(\"The string starts with the specified number.\")\n",
    "else:\n",
    "  print(\"The string does not start with the specified number.\")\n"
   ]
  },
  {
   "cell_type": "code",
   "execution_count": 54,
   "id": "716c7d6a-0d63-415f-874d-37307f3fa733",
   "metadata": {},
   "outputs": [
    {
     "name": "stdout",
     "output_type": "stream",
     "text": [
      "192.168.1.1\n"
     ]
    }
   ],
   "source": [
    "import re\n",
    "\n",
    "def remove_zeros(ip):\n",
    "    return re.sub(r'\\b0+(\\d)', r'\\1', ip)\n",
    "\n",
    "sample_ip = \"192.168.01.001\"\n",
    "print(remove_zeros(sample_ip))\n"
   ]
  },
  {
   "cell_type": "code",
   "execution_count": 58,
   "id": "af308a8d-ebb1-41f8-8b63-cd6a95d03987",
   "metadata": {},
   "outputs": [
    {
     "name": "stdout",
     "output_type": "stream",
     "text": [
      "['August 15th 1947']\n"
     ]
    }
   ],
   "source": [
    "import re\n",
    "\n",
    "def extract_date(text):\n",
    "    pattern = re.compile(r'\\b\\w+ \\d{1,2}\\w{2} \\d{4}\\b')\n",
    "    return pattern.findall(text)\n",
    "\n",
    "sample_text = 'On August 15th 1947 that India was declared independent from British colonialism, and the reins of control were handed over to the leaders of the Country.'\n",
    "print(extract_date(sample_text))\n"
   ]
  },
  {
   "cell_type": "code",
   "execution_count": 64,
   "id": "5dd2d41b-ddad-45ca-8f30-6304c839b5be",
   "metadata": {},
   "outputs": [
    {
     "name": "stdout",
     "output_type": "stream",
     "text": [
      "{'fox': True, 'dog': True, 'horse': False}\n"
     ]
    }
   ],
   "source": [
    "import re\n",
    "\n",
    "def search_literals(text, literals):\n",
    "    return {lit: re.search(lit, text) is not None for lit in literals}\n",
    "\n",
    "sample_text = 'The quick brown fox jumps over the lazy dog.'\n",
    "searched_words = ['fox', 'dog', 'horse']\n",
    "print(search_literals(sample_text, searched_words))\n"
   ]
  },
  {
   "cell_type": "code",
   "execution_count": 66,
   "id": "477043fb-020c-4d00-8f65-02a7f09b101f",
   "metadata": {},
   "outputs": [
    {
     "name": "stdout",
     "output_type": "stream",
     "text": [
      "('fox', 16, 19)\n"
     ]
    }
   ],
   "source": [
    "import re\n",
    "\n",
    "def find_position(text, literal):\n",
    "    match = re.search(literal, text)\n",
    "    if match:\n",
    "        return match.group(), match.start(), match.end()\n",
    "    return None, None, None\n",
    "\n",
    "sample_text = 'The quick brown fox jumps over the lazy dog.'\n",
    "searched_word = 'fox'\n",
    "print(find_position(sample_text, searched_word))\n"
   ]
  },
  {
   "cell_type": "code",
   "execution_count": 68,
   "id": "0e2e0b6c-be29-4fdd-b830-49953a63be8d",
   "metadata": {},
   "outputs": [
    {
     "name": "stdout",
     "output_type": "stream",
     "text": [
      "['exercises', 'exercises', 'exercises']\n"
     ]
    }
   ],
   "source": [
    "import re\n",
    "\n",
    "def find_substrings(text, pattern):\n",
    "    return re.findall(pattern, text)\n",
    "\n",
    "sample_text = 'Python exercises, PHP exercises, C# exercises'\n",
    "pattern = 'exercises'\n",
    "print(find_substrings(sample_text, pattern))\n"
   ]
  },
  {
   "cell_type": "code",
   "execution_count": 70,
   "id": "77233703-57ef-4afb-a8b8-c04d6891505f",
   "metadata": {},
   "outputs": [
    {
     "name": "stdout",
     "output_type": "stream",
     "text": [
      "[('exercises', 7, 16), ('exercises', 22, 31), ('exercises', 36, 45)]\n"
     ]
    }
   ],
   "source": [
    "import re\n",
    "\n",
    "def find_occurrences(text, pattern):\n",
    "    matches = list(re.finditer(pattern, text))\n",
    "    return [(match.group(), match.start(), match.end()) for match in matches]\n",
    "\n",
    "sample_text = 'Python exercises, PHP exercises, C# exercises'\n",
    "pattern = 'exercises'\n",
    "print(find_occurrences(sample_text, pattern))\n"
   ]
  },
  {
   "cell_type": "code",
   "execution_count": 74,
   "id": "561abb6c-7e29-424d-a3fd-11809fd4ab9e",
   "metadata": {},
   "outputs": [
    {
     "name": "stdout",
     "output_type": "stream",
     "text": [
      "21-08-2024\n"
     ]
    }
   ],
   "source": [
    "import re\n",
    "\n",
    "def convert_date_format(date_str):\n",
    "    return re.sub(r'(\\d{4})-(\\d{2})-(\\d{2})', r'\\3-\\2-\\1', date_str)\n",
    "\n",
    "date_str = \"2024-08-21\"\n",
    "print(convert_date_format(date_str))\n"
   ]
  },
  {
   "cell_type": "code",
   "execution_count": 76,
   "id": "edad0aa2-2604-4865-bf69-fd650eb98f85",
   "metadata": {},
   "outputs": [
    {
     "name": "stdout",
     "output_type": "stream",
     "text": [
      "['01.12', '145.8', '3.01', '27.25', '0.25']\n"
     ]
    }
   ],
   "source": [
    "import re\n",
    "\n",
    "def find_decimal_numbers(text):\n",
    "    pattern = re.compile(r'\\b\\d*\\.\\d{1,2}\\b')\n",
    "    return pattern.findall(text)\n",
    "\n",
    "sample_text = \"01.12 0132.123 2.31875 145.8 3.01 27.25 0.25\"\n",
    "print(find_decimal_numbers(sample_text))\n"
   ]
  },
  {
   "cell_type": "code",
   "execution_count": 84,
   "id": "77e474d1-f4fa-4438-bbe0-182f8864ad71",
   "metadata": {},
   "outputs": [
    {
     "name": "stdout",
     "output_type": "stream",
     "text": [
      "[('2000', 13), ('20', 29)]\n"
     ]
    }
   ],
   "source": [
    "import re\n",
    "\n",
    "def separate_numbers_with_position(text):\n",
    "    return [(match.group(), match.start()) for match in re.finditer(r'\\d+', text)]\n",
    "\n",
    "sample_text = 'The price is 2000 rupees and 20 paise.'\n",
    "print(separate_numbers_with_position(sample_text))\n"
   ]
  },
  {
   "cell_type": "code",
   "execution_count": 88,
   "id": "1be5b726-64a8-4d09-96c6-8111e8759a6a",
   "metadata": {},
   "outputs": [
    {
     "name": "stdout",
     "output_type": "stream",
     "text": [
      "950\n"
     ]
    }
   ],
   "source": [
    "import re\n",
    "\n",
    "def extract_largest_number(text):\n",
    "    numbers = re.findall(r'\\d+', text)\n",
    "    return max(map(int, numbers))\n",
    "\n",
    "sample_text = 'My marks in each semester are: 947, 896, 926, 524, 734, 950, 642'\n",
    "print(extract_largest_number(sample_text))\n"
   ]
  },
  {
   "cell_type": "code",
   "execution_count": 90,
   "id": "602ce16f-52e0-46bc-b0f0-6c359f6d1156",
   "metadata": {},
   "outputs": [
    {
     "name": "stdout",
     "output_type": "stream",
     "text": [
      "Regular Expression Is An Important Topic In Python\n"
     ]
    }
   ],
   "source": [
    "import re\n",
    "\n",
    "def insert_spaces(text):\n",
    "    return re.sub(r'([a-z])([A-Z])', r'\\1 \\2', text)\n",
    "\n",
    "sample_text = \"RegularExpressionIsAnImportantTopicInPython\"\n",
    "print(insert_spaces(sample_text))\n"
   ]
  },
  {
   "cell_type": "code",
   "execution_count": 92,
   "id": "ee4c9285-07f6-48f5-87be-b2ab5db0e11e",
   "metadata": {},
   "outputs": [
    {
     "name": "stdout",
     "output_type": "stream",
     "text": [
      "['Hello', 'Test', 'Regular', 'Expressions']\n"
     ]
    }
   ],
   "source": [
    "import re\n",
    "\n",
    "def find_upper_lowercase_sequences(text):\n",
    "    pattern = re.compile(r'\\b[A-Z][a-z]+\\b')\n",
    "    return pattern.findall(text)\n",
    "\n",
    "sample_text = \"Hello world, this is a Test of Regular Expressions.\"\n",
    "print(find_upper_lowercase_sequences(sample_text))\n"
   ]
  },
  {
   "cell_type": "code",
   "execution_count": 100,
   "id": "1d53db33-4427-4930-9d9f-ef787cd5b94c",
   "metadata": {},
   "outputs": [
    {
     "name": "stdout",
     "output_type": "stream",
     "text": [
      "Hello hello world\n"
     ]
    }
   ],
   "source": [
    "import re\n",
    "\n",
    "def remove_duplicates(sentence):\n",
    "  pattern = r'\\b(\\w+)(\\s+\\1\\b)+'\n",
    "  result = re.sub(pattern, r'\\1', sentence)\n",
    "  return result\n",
    "\n",
    "sentence = \"Hello hello world world\"\n",
    "output = remove_duplicates(sentence)\n",
    "print(output)"
   ]
  },
  {
   "cell_type": "code",
   "execution_count": 102,
   "id": "d346c2be-8121-439a-98e2-24ceaae606dd",
   "metadata": {},
   "outputs": [
    {
     "name": "stdout",
     "output_type": "stream",
     "text": [
      "[True, False, True]\n"
     ]
    }
   ],
   "source": [
    "import re\n",
    "\n",
    "def ends_with_alphanumeric(text):\n",
    "    pattern = re.compile(r'\\w$')\n",
    "    return bool(pattern.search(text))\n",
    "\n",
    "# Test cases\n",
    "test_texts = [\"This is a test1\", \"This is a test!\", \"Another test_\"]\n",
    "print([ends_with_alphanumeric(text) for text in test_texts])\n"
   ]
  },
  {
   "cell_type": "code",
   "execution_count": 104,
   "id": "03b5cbfe-33fe-4657-9614-2f58f1060e9d",
   "metadata": {},
   "outputs": [
    {
     "name": "stdout",
     "output_type": "stream",
     "text": [
      "['#Doltiwal', '#xyzabc', '#Demonetization']\n"
     ]
    }
   ],
   "source": [
    "import re\n",
    "\n",
    "def extract_hashtags(text):\n",
    "    pattern = re.compile(r'#\\w+')\n",
    "    return pattern.findall(text)\n",
    "\n",
    "sample_text = \"\"\"RT @kapil_kausik: #Doltiwal I mean #xyzabc is \"hurt\" by #Demonetization as the same has rendered USELESS <ed><U+00A0><U+00BD><ed><U+00B1><U+0089> \"acquired funds\" No wo\"\"\"\n",
    "print(extract_hashtags(sample_text))\n"
   ]
  },
  {
   "cell_type": "code",
   "execution_count": 106,
   "id": "3c57b4ab-5c3a-4258-8f91-a7b895f29cf0",
   "metadata": {},
   "outputs": [
    {
     "name": "stdout",
     "output_type": "stream",
     "text": [
      "@Jags123456 Bharat band on 28??<ed><ed>Those who  are protesting #demonetization  are all different party leaders\n"
     ]
    }
   ],
   "source": [
    "import re\n",
    "\n",
    "def remove_unicode_symbol(text):\n",
    "    pattern = re.compile(r'<U\\+[A-F0-9]{4}>')\n",
    "    return pattern.sub('', text)\n",
    "\n",
    "sample_text = \"@Jags123456 Bharat band on 28??<ed><U+00A0><U+00BD><ed><U+00B8><U+0082>Those who  are protesting #demonetization  are all different party leaders\"\n",
    "print(remove_unicode_symbol(sample_text))\n"
   ]
  },
  {
   "cell_type": "code",
   "execution_count": 108,
   "id": "a24c73d2-eddf-40d6-aee1-e7da5a6b3d23",
   "metadata": {},
   "outputs": [
    {
     "name": "stdout",
     "output_type": "stream",
     "text": [
      "['12-09-1992', '15-12-1999']\n"
     ]
    }
   ],
   "source": [
    "import re\n",
    "\n",
    "with open('sample_dates.txt', 'w') as file:\n",
    "    file.write(\"Ron was born on 12-09-1992 and he was admitted to school 15-12-1999.\")\n",
    "\n",
    "def extract_dates_from_file(YUVI):\n",
    "    pattern = re.compile(r'\\b\\d{2}-\\d{2}-\\d{4}\\b')\n",
    "    with open(YUVI, 'r') as file:\n",
    "        text = file.read()\n",
    "    return pattern.findall(text)\n",
    "\n",
    "print(extract_dates_from_file('sample_dates.txt'))\n"
   ]
  },
  {
   "cell_type": "code",
   "execution_count": 110,
   "id": "190a9191-3a5c-49d6-8c96-db141c24394a",
   "metadata": {},
   "outputs": [
    {
     "name": "stdout",
     "output_type": "stream",
     "text": [
      "following example creates ArrayList a capacity elements. 4 elements added ArrayList ArrayList trimmed accordingly.\n"
     ]
    }
   ],
   "source": [
    "import re\n",
    "\n",
    "def remove_words(text):\n",
    "    pattern = re.compile(r'\\b\\w{2,4}\\b')\n",
    "    return ' '.join(word for word in text.split() if not pattern.fullmatch(word))\n",
    "\n",
    "sample_text = \"The following example creates an ArrayList with a capacity of 50 elements. 4 elements are then added to the ArrayList and the ArrayList is trimmed accordingly.\"\n",
    "print(remove_words(sample_text))\n"
   ]
  }
 ],
 "metadata": {
  "kernelspec": {
   "display_name": "Python 3 (ipykernel)",
   "language": "python",
   "name": "python3"
  },
  "language_info": {
   "codemirror_mode": {
    "name": "ipython",
    "version": 3
   },
   "file_extension": ".py",
   "mimetype": "text/x-python",
   "name": "python",
   "nbconvert_exporter": "python",
   "pygments_lexer": "ipython3",
   "version": "3.12.4"
  }
 },
 "nbformat": 4,
 "nbformat_minor": 5
}
